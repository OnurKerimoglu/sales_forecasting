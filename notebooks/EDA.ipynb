{
 "cells": [
  {
   "cell_type": "markdown",
   "metadata": {},
   "source": [
    "# Exploratory Data Analysis"
   ]
  },
  {
   "cell_type": "code",
   "execution_count": null,
   "metadata": {},
   "outputs": [],
   "source": [
    "import matplotlib.pyplot as plt\n",
    "import pandas as pd\n",
    "import plotly.express as px\n",
    "\n",
    "# local packages packages\n",
    "from utils import Utils\n",
    "from data_utils import Data"
   ]
  },
  {
   "cell_type": "markdown",
   "metadata": {},
   "source": [
    "## Getting to know the data"
   ]
  },
  {
   "cell_type": "code",
   "execution_count": null,
   "metadata": {},
   "outputs": [],
   "source": [
    "# load data:\n",
    "data = Data(Utils.read_config_for_env(config_path='../config/config.yml'))"
   ]
  },
  {
   "cell_type": "code",
   "execution_count": null,
   "metadata": {},
   "outputs": [],
   "source": [
    "data.shop_list.info()"
   ]
  },
  {
   "cell_type": "code",
   "execution_count": null,
   "metadata": {},
   "outputs": [],
   "source": [
    "data.item_list.info()"
   ]
  },
  {
   "cell_type": "code",
   "execution_count": null,
   "metadata": {},
   "outputs": [],
   "source": [
    "data.category_list.info()"
   ]
  },
  {
   "cell_type": "code",
   "execution_count": null,
   "metadata": {},
   "outputs": [],
   "source": [
    "data.transactions.info(show_counts=True)"
   ]
  },
  {
   "cell_type": "markdown",
   "metadata": {},
   "source": [
    "What is price? is it unit price or total price (=unit price * amount). A high correlation between amount and price would indicate that the price is total price."
   ]
  },
  {
   "cell_type": "code",
   "execution_count": null,
   "metadata": {},
   "outputs": [],
   "source": [
    "plt.plot(data.transactions.amount, data.transactions.price, 'o')"
   ]
  },
  {
   "cell_type": "markdown",
   "metadata": {},
   "source": [
    "No correlation. From this we can conclude that price is unit price. But it might be good to double check with the customer."
   ]
  },
  {
   "cell_type": "code",
   "execution_count": null,
   "metadata": {},
   "outputs": [],
   "source": [
    "print(\"Shapes of Each Table:\")\n",
    "print(f\"Items table: {data.item_list.shape}\")\n",
    "print(f\"Shops table: {data.shop_list.shape}\")\n",
    "print(f\"Categories table: {data.category_list.shape}\")\n",
    "print(f\"Transactions Table: {data.transactions.shape}\")"
   ]
  },
  {
   "cell_type": "code",
   "execution_count": null,
   "metadata": {},
   "outputs": [],
   "source": [
    "print(\"Unique count of items, shops, categories:\")\n",
    "print(f\"Unique item count: {data.item_list.item_id.unique().shape[0]}\")\n",
    "print(f\"Unique shop count: {data.shop_list.shop_id.unique().shape[0]}\")\n",
    "print(f\"Unique category count: {data.category_list.item_category_id.unique().shape[0]}\")"
   ]
  },
  {
   "cell_type": "code",
   "execution_count": null,
   "metadata": {},
   "outputs": [],
   "source": [
    "print(\"Representation of the transaction data:\")\n",
    "print(f'Unique items in transactions: {data.transactions.item_id.unique().shape[0]}')\n",
    "print(f'Unique shops in transactions: {data.transactions.shop_id.unique().shape[0]}')"
   ]
  },
  {
   "cell_type": "markdown",
   "metadata": {},
   "source": [
    "First insights:\n",
    "- no missing values at the first sight, however they may be encoded as -99, etc\n",
    "- some items are not represented in the transactions data, which means they were never bought. This is entirely plausible, but this means we will not be able to make predictions for these items, as long as we don't have any other data source on what items are available in which shops.\n",
    "- 1 shop (out of 60) is not represented in the shops data, which means we probably don't have data for this shop. This means we don't have transaction data for this shop, we can't make predictions for this shop, since we don't know what items are available in this shop.\n",
    "- Item categories (from item_list table) seems like a potential feature we can use for predictions.\n",
    "- Month data, extracted from the transactions.dates should be used as a predictive feature, we have to look closer to decide whether years is a feature or not"
   ]
  },
  {
   "cell_type": "markdown",
   "metadata": {},
   "source": [
    "## Merge tables to ease analysis and visualisation"
   ]
  },
  {
   "cell_type": "code",
   "execution_count": null,
   "metadata": {},
   "outputs": [],
   "source": [
    "\n",
    "# create a combined table to ease data processing and visualisation\n",
    "data_merged = data.merge_data()\n",
    "# create date objects and add month and year\n",
    "data_merged = data.handle_dates(data_merged)\n",
    "data_merged.info(show_counts=True)"
   ]
  },
  {
   "cell_type": "markdown",
   "metadata": {},
   "source": [
    "## Cleaning implausible values and outliers"
   ]
  },
  {
   "cell_type": "markdown",
   "metadata": {},
   "source": [
    "### Date"
   ]
  },
  {
   "cell_type": "code",
   "execution_count": null,
   "metadata": {},
   "outputs": [],
   "source": [
    "print(f\"Date range: {data_merged.date.min()}, {data_merged.date.max()}\")"
   ]
  },
  {
   "cell_type": "markdown",
   "metadata": {},
   "source": [
    "### Price"
   ]
  },
  {
   "cell_type": "code",
   "execution_count": null,
   "metadata": {},
   "outputs": [],
   "source": [
    "data_merged.price.describe()"
   ]
  },
  {
   "cell_type": "code",
   "execution_count": null,
   "metadata": {},
   "outputs": [],
   "source": [
    "data_merged[data_merged.price<0]"
   ]
  },
  {
   "cell_type": "markdown",
   "metadata": {},
   "source": [
    "For price, -1 is certainly an implausible value. We should remove (and impute?) such rows where price<0"
   ]
  },
  {
   "cell_type": "code",
   "execution_count": null,
   "metadata": {},
   "outputs": [],
   "source": [
    "plt.boxplot(data_merged.price)"
   ]
  },
  {
   "cell_type": "markdown",
   "metadata": {},
   "source": [
    "That point seems like an outlier, let's take a closer look at transactions where price>100K."
   ]
  },
  {
   "cell_type": "code",
   "execution_count": null,
   "metadata": {},
   "outputs": [],
   "source": [
    "pd.set_option('display.max_rows', None)\n",
    "data_merged[data_merged.price>100000]"
   ]
  },
  {
   "cell_type": "markdown",
   "metadata": {},
   "source": [
    ">100000 (Euros?) for software like photoshop, or items like xbox and PS (amount=1) look suspicious, but given that these shops seem to be from russia, it is possible that the currency is in Rubles (this is something we should clarify with the customer), and considering that 1 Ruble = 0.010 Euros, these correspond to about 1000 Euros, which starts becoming plausible. But what about that most expensive item shown in the diagram?"
   ]
  },
  {
   "cell_type": "code",
   "execution_count": null,
   "metadata": {},
   "outputs": [],
   "source": [
    "data_merged[data_merged.price>200000]"
   ]
  },
  {
   "cell_type": "markdown",
   "metadata": {},
   "source": [
    "It turns out, Radmin is again some software, for which a price of a presumable 10.000 Euros is unreasonable, but the '522 persons' in the item name make it again difficult to judge. There can be outliers in the lower range too.\n",
    "Let's eliminate the rows with significanlty deviating prices (e.g., mean -/+ 3*std). At a later stage, we can try to eliminate based on statistics of the cateogories or individual items. "
   ]
  },
  {
   "cell_type": "markdown",
   "metadata": {},
   "source": [
    "### Amount"
   ]
  },
  {
   "cell_type": "code",
   "execution_count": null,
   "metadata": {},
   "outputs": [],
   "source": [
    "data_merged.amount.describe()"
   ]
  },
  {
   "cell_type": "code",
   "execution_count": null,
   "metadata": {},
   "outputs": [],
   "source": [
    "data_merged[data_merged.amount<-5]"
   ]
  },
  {
   "cell_type": "code",
   "execution_count": null,
   "metadata": {},
   "outputs": [],
   "source": [
    "data_merged[data_merged.amount<0].shape"
   ]
  },
  {
   "cell_type": "markdown",
   "metadata": {},
   "source": [
    "Here, negative values might be plausible, as these may represent returns. This is something to check with the customer, but for now, we will assume that we are not interested in these data, and will remove them. Predicting 'returns' might be anyway outside of the scope of the current project."
   ]
  },
  {
   "cell_type": "code",
   "execution_count": null,
   "metadata": {},
   "outputs": [],
   "source": [
    "plt.boxplot(data_merged.amount)"
   ]
  },
  {
   "cell_type": "code",
   "execution_count": null,
   "metadata": {},
   "outputs": [],
   "source": [
    "data_merged[data_merged.amount>500]"
   ]
  },
  {
   "cell_type": "markdown",
   "metadata": {},
   "source": [
    "Some of these may seem ok'ish (eg, Ticket), but some are looking definitely strange (e.g., Grand Theft Auto).\n",
    "Similar to the price outlier removing logic, let's eliminate the rows with significanlty deviating amounts. At a later stage, we can try to eliminate based on statistics of the cateogories or individual items."
   ]
  },
  {
   "cell_type": "markdown",
   "metadata": {},
   "source": [
    "### Cleaning"
   ]
  },
  {
   "cell_type": "code",
   "execution_count": null,
   "metadata": {},
   "outputs": [],
   "source": [
    "data_cleaned = data.clean_data(data_merged)"
   ]
  },
  {
   "cell_type": "markdown",
   "metadata": {},
   "source": [
    "Here, we used the mean +/- 3*std outlier detection strategy, and it turns out, we lost a considerable amount (1.7%) of data. And given that the higher amounts of sales are valuable to predict, so that shops are ready for such singular events, this outlier removal strategy might be too aggressive. This should be definitely revisited at a later stage, probably involving the customer into the decision."
   ]
  },
  {
   "cell_type": "code",
   "execution_count": null,
   "metadata": {},
   "outputs": [],
   "source": [
    "data_cleaned.describe()"
   ]
  },
  {
   "cell_type": "code",
   "execution_count": null,
   "metadata": {},
   "outputs": [],
   "source": [
    "plt.boxplot(data_cleaned.price)"
   ]
  },
  {
   "cell_type": "code",
   "execution_count": null,
   "metadata": {},
   "outputs": [],
   "source": [
    "plt.boxplot(data_cleaned.amount)"
   ]
  },
  {
   "cell_type": "markdown",
   "metadata": {},
   "source": [
    "## Looking for patterns"
   ]
  },
  {
   "cell_type": "markdown",
   "metadata": {},
   "source": [
    "### Time\n",
    "Let's look at the distribution of transaction counts over time, to see if there is any anomaly:"
   ]
  },
  {
   "cell_type": "code",
   "execution_count": null,
   "metadata": {},
   "outputs": [],
   "source": [
    "daily_total_counts = data_cleaned.groupby('date').size()\n",
    "daily_total_counts = daily_total_counts.reset_index(name='count')\n",
    "\n",
    "px.line(daily_total_counts, x='date', y='count', title='Count of Transactions for Each Date')"
   ]
  },
  {
   "cell_type": "code",
   "execution_count": null,
   "metadata": {},
   "outputs": [],
   "source": [
    "daily_total_amounts = data_cleaned[['date', 'amount']].groupby(['date'], group_keys=True).sum()\n",
    "daily_total_amounts = daily_total_amounts.reset_index()\n",
    "\n",
    "px.line(daily_total_amounts, x='date', y='amount', title='Total Amount of Sales for Each Date')"
   ]
  },
  {
   "cell_type": "markdown",
   "metadata": {},
   "source": [
    " It seems like there is a downward trend in both transaction counts and sale amounts over time. It might be good to use a model that can take this into account. We can also see the christmas/sylvester peaks. For monthly sales, these daily features are not important, but these probably reflect to the monthly sales numbers: "
   ]
  },
  {
   "cell_type": "code",
   "execution_count": null,
   "metadata": {},
   "outputs": [],
   "source": [
    "monthly_total_amounts = data_cleaned[['month', 'amount']].groupby(['month']).sum()\n",
    "monthly_total_amounts = monthly_total_amounts.reset_index()\n",
    "\n",
    "px.bar(monthly_total_amounts, x='month', y='amount', title='Total Amount of Sales for Each Month')"
   ]
  },
  {
   "cell_type": "markdown",
   "metadata": {},
   "source": [
    "From this chart, we see that there is an obvious seasonal component, with higher sales during during winter months in general, starting with December."
   ]
  },
  {
   "cell_type": "code",
   "execution_count": null,
   "metadata": {},
   "outputs": [],
   "source": [
    "dayofweek_total_amounts = data_cleaned[['dayofweek', 'amount']].groupby(['dayofweek']).sum()\n",
    "dayofweek_total_amounts = dayofweek_total_amounts.reset_index()\n",
    "# dayofweek_total_amounts['dayofweek'] = dayofweek_total_amounts['dayofweek'].dt.strftime(\"%A\")\n",
    "fig = px.bar(dayofweek_total_amounts, x='dayofweek', y='amount', title='Total Amount of Sales for Days of the Week')\n",
    "fig.update_layout(xaxis=dict(tickmode='array', tickvals=[0, 1, 2, 3, 4, 5, 6], ticktext=['Monday', 'Tuesday', 'Wednesday', 'Thursday', 'Friday', 'Saturday', 'Sunday']))\n",
    "fig.show()"
   ]
  },
  {
   "cell_type": "markdown",
   "metadata": {},
   "source": [
    "We see that the sales increase during the weekends. For making predictions on a daily basis, this should be taken into account."
   ]
  },
  {
   "cell_type": "markdown",
   "metadata": {},
   "source": [
    "### Other factors\n",
    "Let's try to find relationships between sales and other potential factors, such as shops, categories, and price"
   ]
  },
  {
   "cell_type": "code",
   "execution_count": null,
   "metadata": {},
   "outputs": [],
   "source": [
    "shop_amounts = data_cleaned[['shop_id', 'amount']].groupby(['shop_id']).sum()\n",
    "shop_amounts = shop_amounts.reset_index()\n",
    "\n",
    "px.bar(shop_amounts, x='shop_id', y='amount', title='Total Amount of Sales for Each Shop')"
   ]
  },
  {
   "cell_type": "code",
   "execution_count": null,
   "metadata": {},
   "outputs": [],
   "source": [
    "shop_amounts_monthly = data_cleaned[['date', 'shop_id', 'amount']]\n",
    "shop_amounts_monthly['Period'] = shop_amounts_monthly['date'].dt.to_period('M').astype('str')\n",
    "shop_amounts_monthly = shop_amounts_monthly[['Period', 'shop_id', 'amount']].groupby(['Period', 'shop_id']).sum()\n",
    "shop_amounts_monthly = shop_amounts_monthly.reset_index()\n",
    "px.line(shop_amounts_monthly, x='Period', y='amount', color='shop_id', title='Total Sales Amount Across Time for Each Shop')"
   ]
  },
  {
   "cell_type": "markdown",
   "metadata": {},
   "source": [
    "The total amount of sales vary strongly across shops. The trends we've seen before seem to apply for all shops."
   ]
  },
  {
   "cell_type": "code",
   "execution_count": null,
   "metadata": {},
   "outputs": [],
   "source": [
    "category_amounts = data_cleaned[['item_category_name', 'amount']].groupby(['item_category_name']).sum()\n",
    "category_amounts = category_amounts.sort_values(by='amount', ascending=False).reset_index()\n",
    "category_amounts = category_amounts.loc[category_amounts['amount']>10000,:]\n",
    "fig = px.bar(category_amounts, x='amount', y='item_category_name', color='item_category_name', title='Total Amount of Sales for Each Category (with sale amount >10,000)')\n",
    "fig.update_layout(showlegend=False)"
   ]
  },
  {
   "cell_type": "markdown",
   "metadata": {},
   "source": [
    "We can try to use category as a feature, although it is questionable whether it would add value."
   ]
  },
  {
   "cell_type": "markdown",
   "metadata": {},
   "source": [
    "What about Price? It is well possible that the price has an effect on the sales, for each shop and item pair. In the prediciton, we don't have information on the price to be set for each shop and item pair for the month to be predicted. For now we could calculate the average price of items in each shop, but it is questionable that this would add value to our model, since the shop_id's and prices would be one to one mappable. In a later iteration, we can talk with the customer and ask if they can provide the price of each item to be set for each prediction month."
   ]
  }
 ],
 "metadata": {
  "kernelspec": {
   "display_name": ".venv",
   "language": "python",
   "name": "python3"
  },
  "language_info": {
   "codemirror_mode": {
    "name": "ipython",
    "version": 3
   },
   "file_extension": ".py",
   "mimetype": "text/x-python",
   "name": "python",
   "nbconvert_exporter": "python",
   "pygments_lexer": "ipython3",
   "version": "3.11.8"
  }
 },
 "nbformat": 4,
 "nbformat_minor": 2
}
