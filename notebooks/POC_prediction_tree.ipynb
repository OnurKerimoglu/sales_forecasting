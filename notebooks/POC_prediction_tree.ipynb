{
 "cells": [
  {
   "cell_type": "markdown",
   "metadata": {},
   "source": [
    "# Prediction Pipeline: Tree-Based"
   ]
  },
  {
   "cell_type": "code",
   "execution_count": null,
   "metadata": {},
   "outputs": [],
   "source": [
    "from predictor import BasePredictor\n",
    "from utils import Utils\n",
    "\n",
    "config = Utils.read_config_for_env(config_path='../config/config.yml')\n",
    "predictor = BasePredictor(\n",
    "    config,\n",
    "    refresh_monthly=False,\n",
    "    refresh_ts_features=False,\n",
    "    num_lag_mon=3,\n",
    "    val_ratio=0.2,\n",
    "    scaler_type='standard')"
   ]
  },
  {
   "cell_type": "markdown",
   "metadata": {},
   "source": [
    "## Basic LightGBM model"
   ]
  },
  {
   "cell_type": "code",
   "execution_count": null,
   "metadata": {},
   "outputs": [],
   "source": [
    "import lightgbm as lgb\n",
    "# from lightgbm import LGBMRegressor \n",
    "import numpy as np\n",
    "import shap\n",
    "from sklearn.metrics import mean_squared_error as mse \n",
    "from sklearn.model_selection import TimeSeriesSplit, GridSearchCV, RandomizedSearchCV\n",
    "from sklearn.metrics import make_scorer"
   ]
  },
  {
   "cell_type": "code",
   "execution_count": null,
   "metadata": {},
   "outputs": [],
   "source": [
    "# Create a LightGBM dataset for training with features X_train and labels Y_train \n",
    "train_data = lgb.Dataset(predictor.X_train, label=predictor.y_train) \n",
    "# Create a LightGBM dataset for testing with features X_val and labels Y_val, \n",
    "# and specify the reference dataset as train_data for consistent evaluation \n",
    "val_data = lgb.Dataset(predictor.X_val, label=predictor.y_val, reference=train_data) \n",
    "# Define a dictionary of parameters for configuring the LightGBM regression model. "
   ]
  },
  {
   "cell_type": "code",
   "execution_count": null,
   "metadata": {},
   "outputs": [],
   "source": [
    "params = { \n",
    "    'objective': 'regression',\n",
    "    'metric': 'rmse',\n",
    "    'boosting_type': 'gbdt',\n",
    "    'num_leaves': 30,\n",
    "    'learning_rate': 0.1,\n",
    "    'feature_fraction': 0.9,\n",
    "}\n",
    "callback_early_stopping = lgb.early_stopping(5)\n",
    "num_round = 100\n",
    "model = lgb.train(\n",
    "    params,\n",
    "    train_data,\n",
    "    num_round,\n",
    "    valid_sets=[val_data],\n",
    "    callbacks=[callback_early_stopping, lgb.log_evaluation()],\n",
    ")"
   ]
  },
  {
   "cell_type": "code",
   "execution_count": null,
   "metadata": {},
   "outputs": [],
   "source": [
    "# Make predictions on the training and validation data. \n",
    "pred_train = model.predict(predictor.X_train)\n",
    "pred_val = model.predict(predictor.X_val)\n",
    "\n",
    "# Calculate and print the Root Mean Squared Error (RMSE) for training and validation predictions. \n",
    "print(\"Training RMSE: \", np.sqrt(mse(predictor.y_train, pred_train)))\n",
    "print(\"Validation RMSE: \", np.sqrt(mse(predictor.y_val, pred_val)))"
   ]
  },
  {
   "cell_type": "code",
   "execution_count": null,
   "metadata": {},
   "outputs": [],
   "source": [
    "pred_train.max()"
   ]
  }
 ],
 "metadata": {
  "kernelspec": {
   "display_name": ".venv",
   "language": "python",
   "name": "python3"
  },
  "language_info": {
   "codemirror_mode": {
    "name": "ipython",
    "version": 3
   },
   "file_extension": ".py",
   "mimetype": "text/x-python",
   "name": "python",
   "nbconvert_exporter": "python",
   "pygments_lexer": "ipython3",
   "version": "3.11.8"
  }
 },
 "nbformat": 4,
 "nbformat_minor": 2
}
