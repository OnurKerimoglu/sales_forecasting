{
 "cells": [
  {
   "cell_type": "code",
   "execution_count": null,
   "metadata": {},
   "outputs": [],
   "source": [
    "import itertools\n",
    "import pandas as pd\n",
    "\n",
    "from tree_predictor import TreePredictor\n",
    "from utils import Utils"
   ]
  },
  {
   "cell_type": "code",
   "execution_count": null,
   "metadata": {},
   "outputs": [],
   "source": [
    "config = Utils.read_config_for_env(config_path='../config/config.yml')\n",
    "treepredictor = TreePredictor(config)"
   ]
  },
  {
   "cell_type": "code",
   "execution_count": null,
   "metadata": {},
   "outputs": [],
   "source": [
    "df = treepredictor.data_daily_train"
   ]
  },
  {
   "cell_type": "code",
   "execution_count": null,
   "metadata": {},
   "outputs": [],
   "source": [
    "def create_df_full(df, columns):\n",
    "    # Generate all possible combinations of shops, items, and dates.\n",
    "    shops = df[columns[0]].unique()\n",
    "    items = df[columns[1]].unique()\n",
    "    dates = df[columns[2]].unique()\n",
    "    all_combinations = list(itertools.product(shops, items, dates))\n",
    "    df_all = pd.DataFrame(all_combinations, columns=columns)\n",
    "    return df_all\n",
    "\n",
    "def create_df_all(df, coldict):\n",
    "    shop_item_pairs = df[[coldict['shops'], coldict['items']]].drop_duplicates()\n",
    "\n",
    "    dates = df[coldict['date']].unique()\n",
    "\n",
    "    # Create a list of all possible combinations of shop-item pairs with the dates\n",
    "    df_all = pd.DataFrame(\n",
    "        list(itertools.product(shop_item_pairs.values, dates)),\n",
    "        columns=['shop_item', coldict['date']])\n",
    "    # Split the 'shop_item' column back into separate 'shop_id' and 'item_id' columns\n",
    "    df_all[[coldict['shops'], coldict['items']]] = pd.DataFrame(\n",
    "        df_all['shop_item'].tolist(), \n",
    "        index=df_all.index)\n",
    "    # Drop the intermediate 'shop_item' column\n",
    "    df_all = df_all.drop(columns=['shop_item'])\n",
    "\n",
    "    return df_all\n",
    "\n",
    "def add_avgprice_to_df_all(df_all, df):\n",
    "    # add prices (avg)\n",
    "    return df_all\n",
    "\n",
    "def add_catgory_to_df_all(df_all, df):\n",
    "    # add category\n",
    "    return df_all\n",
    "\n",
    "def create_df_with_zero_sales(df, df_all, coldict):\n",
    "    # Merge with the original dataframe\n",
    "    df_merged = pd.merge(\n",
    "        df_all,\n",
    "        df,\n",
    "        on=[coldict['shops'], coldict['items'], coldict['date']],\n",
    "        how='left')\n",
    "    # Fill missing values with 0\n",
    "    df_merged['amount'].fillna(0, inplace=True)\n",
    "    return df_merged"
   ]
  },
  {
   "cell_type": "code",
   "execution_count": null,
   "metadata": {},
   "outputs": [],
   "source": [
    "df_items_monthly_grouped = df.groupby(\n",
    "    ['shop_id', 'item_id', 'monthly_period']\n",
    "    )\n",
    "\n",
    "df_items_monthly = df_items_monthly_grouped.agg(\n",
    "    {\n",
    "    'item_category_id': 'first',\n",
    "    'price': 'mean',\n",
    "    'amount': 'sum',\n",
    "    }\n",
    ").reset_index()\n",
    "\n",
    "df_items_monthly"
   ]
  },
  {
   "cell_type": "code",
   "execution_count": null,
   "metadata": {},
   "outputs": [],
   "source": [
    "coldict = {'shops': 'shop_id', 'items': 'item_id', 'date': 'monthly_period'}\n",
    "df_all = create_df_all(df_items_monthly, coldict)\n",
    "df_all.shape"
   ]
  },
  {
   "cell_type": "code",
   "execution_count": null,
   "metadata": {},
   "outputs": [],
   "source": [
    "# df_all = add_avgprice_to_df_all(df_all, df)\n",
    "\n",
    "# df_all = add_catgory_to_df_all(df_all, df)\n",
    "\n",
    "create_df_with_zero_sales(df, df_all, coldict)\n"
   ]
  },
  {
   "cell_type": "code",
   "execution_count": null,
   "metadata": {},
   "outputs": [],
   "source": [
    "df_categories_monthly_grouped = df.groupby(\n",
    "    ['shop_id', 'item_category_id', 'monthly_period']\n",
    "    )\n",
    "\n",
    "df_categories_monthly = df_categories_monthly_grouped.agg(\n",
    "    {\n",
    "    'amount': 'sum',\n",
    "    }\n",
    ").reset_index()\n",
    "\n",
    "df_categories_monthly"
   ]
  },
  {
   "cell_type": "code",
   "execution_count": null,
   "metadata": {},
   "outputs": [],
   "source": [
    "df_monthly = pd.merge(\n",
    "    df_items_monthly,\n",
    "    df_categories_monthly,\n",
    "    how='left',\n",
    "    on=['shop_id', 'item_category_id', 'monthly_period'],\n",
    "    suffixes=('_item', '_cat'))\n",
    "df_monthly"
   ]
  }
 ],
 "metadata": {
  "kernelspec": {
   "display_name": ".venv",
   "language": "python",
   "name": "python3"
  },
  "language_info": {
   "codemirror_mode": {
    "name": "ipython",
    "version": 3
   },
   "file_extension": ".py",
   "mimetype": "text/x-python",
   "name": "python",
   "nbconvert_exporter": "python",
   "pygments_lexer": "ipython3",
   "version": "3.11.8"
  }
 },
 "nbformat": 4,
 "nbformat_minor": 2
}
